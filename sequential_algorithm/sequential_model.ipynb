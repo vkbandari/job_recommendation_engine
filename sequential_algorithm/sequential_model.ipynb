{
 "cells": [
  {
   "cell_type": "code",
   "execution_count": 1,
   "metadata": {},
   "outputs": [],
   "source": [
    "# firstly install libraries : keras and tensorflow\n",
    "# pip install keras\n",
    "# pip install tensorflow"
   ]
  },
  {
   "cell_type": "code",
   "execution_count": 2,
   "metadata": {},
   "outputs": [
    {
     "name": "stderr",
     "output_type": "stream",
     "text": [
      "Using TensorFlow backend.\n"
     ]
    }
   ],
   "source": [
    "import seq_model as seq"
   ]
  },
  {
   "cell_type": "code",
   "execution_count": 3,
   "metadata": {},
   "outputs": [
    {
     "name": "stdout",
     "output_type": "stream",
     "text": [
      "Model: \"sequential_1\"\n",
      "_________________________________________________________________\n",
      "Layer (type)                 Output Shape              Param #   \n",
      "=================================================================\n",
      "embedding_1 (Embedding)      (None, 1200, 64)          128000    \n",
      "_________________________________________________________________\n",
      "conv1d_1 (Conv1D)            (None, 1185, 200)         205000    \n",
      "_________________________________________________________________\n",
      "global_max_pooling1d_1 (Glob (None, 200)               0         \n",
      "_________________________________________________________________\n",
      "dense_1 (Dense)              (None, 512)               102912    \n",
      "_________________________________________________________________\n",
      "dropout_1 (Dropout)          (None, 512)               0         \n",
      "_________________________________________________________________\n",
      "activation_1 (Activation)    (None, 512)               0         \n",
      "_________________________________________________________________\n",
      "dense_2 (Dense)              (None, 25)                12825     \n",
      "_________________________________________________________________\n",
      "activation_2 (Activation)    (None, 25)                0         \n",
      "=================================================================\n",
      "Total params: 448,737\n",
      "Trainable params: 448,737\n",
      "Non-trainable params: 0\n",
      "_________________________________________________________________\n"
     ]
    },
    {
     "name": "stderr",
     "output_type": "stream",
     "text": [
      "C:\\Anaconda3\\lib\\site-packages\\tensorflow\\python\\framework\\indexed_slices.py:434: UserWarning: Converting sparse IndexedSlices to a dense Tensor of unknown shape. This may consume a large amount of memory.\n",
      "  \"Converting sparse IndexedSlices to a dense Tensor of unknown shape. \"\n"
     ]
    },
    {
     "name": "stdout",
     "output_type": "stream",
     "text": [
      "Train on 7200 samples, validate on 1800 samples\n",
      "Epoch 1/2\n",
      "7200/7200 [==============================] - 248s 34ms/step - loss: 2.8797 - categorical_accuracy: 0.1425 - val_loss: 2.1471 - val_categorical_accuracy: 0.3022\n",
      "Epoch 2/2\n",
      "7200/7200 [==============================] - 246s 34ms/step - loss: 1.6966 - categorical_accuracy: 0.4632 - val_loss: 1.3884 - val_categorical_accuracy: 0.5717\n"
     ]
    }
   ],
   "source": [
    "model_seq = seq.model_init()"
   ]
  },
  {
   "cell_type": "code",
   "execution_count": null,
   "metadata": {},
   "outputs": [],
   "source": [
    "#(a, b) = seq.model_pred(model_seq)"
   ]
  },
  {
   "cell_type": "code",
   "execution_count": 6,
   "metadata": {},
   "outputs": [],
   "source": [
    "import numpy as np"
   ]
  },
  {
   "cell_type": "code",
   "execution_count": 12,
   "metadata": {},
   "outputs": [
    {
     "name": "stdout",
     "output_type": "stream",
     "text": [
      "vamshikrishna bandari krishnavamshi.12321@gmail.com +91 8919765647 hyderabad, bangalore education bachelor of technology (b.tech), computer science kalasalingam academy of research and education 2016 - 2020 cgpa: 9.10/10 diploma, yoga for youth empowerment vethathiri maharishi institute aliyar, tamil nadu 2016 - 2017 percentage: 82.00% senior secondary (xii), science nri junior kalasala, nijampet, telangana (board of intermediate education, telangana board) year of completion: 2016 percentage: 94.00% secondary (x) zppss challagariga (board of secondary school education telangana board) year of completion: 2016 cgpa: 9.30/10 internships machine learning intern mindadda, bangalore may 2020 - present working on a real-time project to analyze jobs in india. here my work includes from scratch to end which involves collecting, cleaning, preparing, model deployment... and also working on chatbot creation, tasks on social media sentiment analysis. data science intern avancer software solutions pvt. ltd., virtual jan 2020 - may 2020 this is part time one and work is on collecting the data and performing the eda on the data set includes cleaning, merging and visualize the data. the daily tasks is to apply data analytics techniques full stack development bigwig technologies, hyderabad dec 2018 - dec 2018 - learnt so many technologies and frameworks. - done online shopping site named as quicart. - quicart is a clone website for flipkart. front end web developer arete it services pvt ltd, warangal may 2018 - jun 2018 trained as a web developer. • worked on a website where we developed front end. • took some special training on search engine optimization. positions of responsibility campus ambassador for smartbridge educational services pvt. ltd chairperson @ kareacm student chapter-170084 in the academic year 2018-19 web developer(2k17 - 2k18) @ student chapter kare acm. at that period i involved in developing two websites. 1. kare acm - the main website to represent the student chapter. 2. an event site (disfrutar 2k18) to promote event and event activities. event coordinator @ fine arts where i worked to promote the culture of india and our native style of living by conducting many events to the engineers which are studying in my university trainings introduction to machine learning nptel - youtube, online mar 2020 - present course which deals with the machine learning paradigms and hands on practices on scikits-learn library in python. how to build chatbots cognitive ai class, online mar 2020 - apr 2020 i got certied and secured level - 1 badge in ibmskillnetwork. in this course they trained me on ibm watson to develop chatbot. i done a chatbot project that address my college and solves queries regarding to college at the time of admission. complete excel course udemy, online jan 2020 - feb 2020 this course around 20 hours which course all concepts from basic formatting to advanced functions, charts, pivot tables. python for data science edx, online nov 2019 - jan 2020 this is an audit course from ucsandiego. here i am learning python and packages which are required to perform data science operations. packages include like numpy, pandas, matplotlib, scikit-learn, nltk... data science fundamentals (learning path) cognitive ai class, online oct 2019 - nov 2019 completed data science fundamentals a learning path and earned a level 2 badge in cognitive ai which is an initiative by ibmskillnetwork learn to code with python 3 udemy, online may 2019 - aug 2019 introduction to an advanced level with 17.5 hours covering all oops concepts. certied from udemy. responsive web development udemy, online feb 2019 - jun 2019 underwent many topics in html5, css3, bootstrap, jquery and a little bit of javascript. learn professional web design in photoshop udemy, online nov 2018 - apr 2019 a four-hour course which includes projects on website design css for smart people udemy, online nov 2018 - dec 2018 projects kare chatbot mar 2020 - apr 2020 here i used ibm watson that which replies to student queries. the main focus is to solve queries related to admissions. this project is an outcome of my ibmskillnetwork course. exploratory data analysis on sales jan 2020 - jan 2020 this is a demo project to understand the data analysis using pandas, matplotlib, numpy. here the questions are framed and solved to demonstrate the usage of pandas. twitter data analysis jan 2020 - jan 2020 https://github.com/vkbandari/twitter-data-analysis explored twitter api and extracts the data by using woeid for particular locations and analyzed the tweets how much it took part in a country and also extracts the data using hashtags and nds its relevant hashtags .. handwritten digit recognizer using machine learning sep 2019 - nov 2019 https://github.com/vkbandari/digit-recogniser-using-scikit-learn developed a decision tree classication model to predict the data which is collected from kaggle. the predicted output is veried by printing the same record using matplotlib visually. play math mar 2019 - mar 2019 https://github.com/vkbandari/-play-math a web application - game that a student can practice, improve his mathematics problem solving. he can opt for any level and he can play based on given time and mark criteria. this project is developed by using html5, css3, javascript, bootstrap. web app using wordpress – disfrutar 2k18 jun 2018 - aug 2018 https://disfrutar2k18.kare.hosting.acm.org/ - creates and maintains a website (disfrutar 2k18) an event which is happened under kare acm. - uses databases in site to store the registration data. smart home automation using intelligence and ibm cloud mar 2018 - mar 2018 - performed in emerge hackathon in jntu anantapur, andhra pradesh. - meant to people like old agers and patients. - promoting automation from their point of view. skills html advanced c programming advanced css advanced javascript intermediate machine learning intermediate adobe photoshop intermediate python advanced wordpress intermediate ms-office intermediate data structures intermediate database management system (dbms) intermediate mysql intermediate data analytics intermediate data science intermediate work samples github prole https://github.com/vkbandari additional details - best innovative project idea appreciation at emerge hackathon. - pre-finalist to ieee global worldwide projects, colombo, srilanka and iit varanasi. - selected for state level inspire exhibition and projects competition - 2014. - got awarded as best quality assurance project year award in 2018 on student fee management. - got funded in under graduation for being excellence in studies. - stood rst in training sessions of java by campusconnection.\n"
     ]
    }
   ],
   "source": [
    "res = 'VAMSHIKRISHNA BANDARI krishnavamshi.12321@gmail.com +91 8919765647 Hyderabad, Bangalore EDUCATION Bachelor of Technology (B.Tech), Computer Science Kalasalingam Academy Of Research And Education 2016 - 2020 CGPA: 9.10/10 Diploma, Yoga For Youth Empowerment Vethathiri MaharishI Institute Aliyar, Tamil Nadu 2016 - 2017 Percentage: 82.00% Senior Secondary (XII), Science NRI Junior Kalasala, Nijampet, Telangana (BOARD OF INTERMEDIATE EDUCATION, TELANGANA board) Year of completion: 2016 Percentage: 94.00% Secondary (X) ZPPSS Challagariga (BOARD OF SECONDARY SCHOOL EDUCATION TELANGANA board) Year of completion: 2016 CGPA: 9.30/10 INTERNSHIPS Machine Learning Intern Mindadda, Bangalore May 2020 - Present Working on a real-time project to analyze jobs in India. Here my work includes from scratch to end which involves collecting, cleaning, preparing, model deployment... And also working on chatbot creation, tasks on social media sentiment analysis. Data Science Intern Avancer Software Solutions Pvt. Ltd., Virtual Jan 2020 - May 2020 This is part time one and work is on collecting the data and performing the EDA on the data set includes cleaning, merging and visualize the data. The daily tasks is to apply data analytics techniques Full Stack Development Bigwig Technologies, Hyderabad Dec 2018 - Dec 2018 - Learnt so many technologies and frameworks. - Done online shopping site named as QuiCart. - QuiCart is a clone website for Flipkart. Front End Web Developer Arete IT Services Pvt Ltd, Warangal May 2018 - Jun 2018 Trained as a web developer. • Worked on a website where we developed front end. • Took some special training on Search Engine Optimization. POSITIONS OF RESPONSIBILITY Campus ambassador for SmartBridge Educational Services Pvt. Ltd Chairperson @ KAREACM STUDENT CHAPTER-170084 in the academic year 2018-19 Web Developer(2K17 - 2K18) @ Student Chapter KARE ACM. At that period I involved in developing two websites. 1. KARE ACM - the main website to represent the student chapter. 2. An Event site (Disfrutar 2k18) to promote event and event activities. Event Coordinator @ Fine Arts Where I worked to promote the culture of India and our Native Style of living by conducting many events to the Engineers which are studying in my University TRAININGS Introduction To Machine Learning NPTEL - Youtube, Online Mar 2020 - Present Course which deals with the machine learning paradigms and hands on practices on Scikits-Learn library in python. How To Build Chatbots Cognitive AI Class, Online Mar 2020 - Apr 2020 I got certied and secured level - 1 badge in IBMSKILLNETWORK. In this course they trained me on IBM Watson to develop chatbot. I done a chatbot project that address my college and solves queries regarding to college at the time of admission. Complete Excel Course udemy, Online Jan 2020 - Feb 2020 This course around 20 hours which course all concepts from basic formatting to advanced functions, charts, pivot tables. Python For Data Science edX, Online Nov 2019 - Jan 2020 This is an audit course from UCSanDiego. Here I am learning python and packages which are required to perform data science operations. Packages include like Numpy, Pandas, matplotlib, Scikit-learn, NLTK... Data Science Fundamentals (learning Path) Cognitive AI Class, Online Oct 2019 - Nov 2019 Completed data science fundamentals a learning path and earned a level 2 badge in cognitive AI which is an initiative by IBMSKILLNETWORK Learn To Code With Python 3 udemy, Online May 2019 - Aug 2019 Introduction to an advanced level with 17.5 hours covering all oops concepts. Certied from Udemy. Responsive Web Development udemy, Online Feb 2019 - Jun 2019 underwent many topics in HTML5, CSS3, Bootstrap, jQuery and a little bit of JavaScript. Learn Professional Web Design In Photoshop udemy, Online Nov 2018 - Apr 2019 A four-hour course which includes projects on website design CSS For Smart People udemy, Online Nov 2018 - Dec 2018 PROJECTS KARE CHATBOT Mar 2020 - Apr 2020 Here I used IBM Watson that which replies to student queries. The main focus is to solve queries related to admissions. This project is an outcome of my IBMSKILLNETWORK course. Exploratory Data Analysis on sales Jan 2020 - Jan 2020 This is a demo project to understand the data analysis using pandas, matplotlib, Numpy. Here the questions are framed and solved to demonstrate the usage of pandas. Twitter Data Analysis Jan 2020 - Jan 2020 https://github.com/vkbandari/Twitter-Data-Analysis Explored twitter API and extracts the data by using WOEID for particular locations and analyzed the tweets how much it took part in a country and also extracts the data using hashtags and nds its relevant hashtags .. Handwritten Digit Recognizer using Machine Learning Sep 2019 - Nov 2019 https://github.com/vkbandari/Digit-Recogniser-using-scikit-learn Developed a decision tree classication model to predict the data which is collected from Kaggle. The predicted output is veried by printing the same record using matplotlib visually. Play Math Mar 2019 - Mar 2019 https://github.com/vkbandari/-PLAY-MATH A web application - game that a student can practice, improve his mathematics problem solving. He can opt for any level and he can play based on given time and mark criteria. This project is developed by using HTML5, CSS3, JavaScript, Bootstrap. Web app using Wordpress – Disfrutar 2k18 Jun 2018 - Aug 2018 https://disfrutar2k18.kare.hosting.acm.org/ - Creates and Maintains a website (Disfrutar 2k18) an event which is happened under KARE ACM. - Uses databases in site to store the registration data. Smart home automation using intelligence and IBM CLOUD Mar 2018 - Mar 2018 - Performed in Emerge Hackathon in JNTU Anantapur, Andhra Pradesh. - Meant to people like old agers and patients. - Promoting automation from their point of view. SKILLS HTML Advanced C Programming Advanced CSS Advanced JavaScript Intermediate Machine Learning Intermediate Adobe Photoshop Intermediate Python Advanced WordPress Intermediate MS-Office Intermediate Data Structures Intermediate Database Management System (DBMS) Intermediate MySQL Intermediate Data Analytics Intermediate Data Science Intermediate WORK SAMPLES GitHub prole https://github.com/vkbandari ADDITIONAL DETAILS - Best innovative project idea appreciation at Emerge Hackathon. - Pre-finalist to IEEE global worldwide projects, Colombo, Srilanka and IIT Varanasi. - Selected for State level Inspire Exhibition and Projects Competition - 2014. - Got awarded as best quality assurance project year award in 2018 on Student Fee Management. - Got funded in under graduation for being excellence in studies. - Stood rst in training sessions of java by CampusConnection.'\n",
    "res = res.lower()\n",
    "print(res)"
   ]
  },
  {
   "cell_type": "code",
   "execution_count": 15,
   "metadata": {},
   "outputs": [],
   "source": [
    "resume = np.array([res])"
   ]
  },
  {
   "cell_type": "code",
   "execution_count": 16,
   "metadata": {},
   "outputs": [],
   "source": [
    "(a, b) = seq.model_pred(model_seq, resume)"
   ]
  },
  {
   "cell_type": "code",
   "execution_count": 17,
   "metadata": {},
   "outputs": [
    {
     "data": {
      "text/plain": [
       "array([20], dtype=int64)"
      ]
     },
     "execution_count": 17,
     "metadata": {},
     "output_type": "execute_result"
    }
   ],
   "source": [
    "a"
   ]
  },
  {
   "cell_type": "code",
   "execution_count": 18,
   "metadata": {},
   "outputs": [
    {
     "data": {
      "text/plain": [
       "array(['Cloud Architect', 'Information Security Analyst',\n",
       "       'Technology Integration Analyst', ..., 'Network Architect',\n",
       "       'Data Analyst', 'Database Administrator'], dtype='<U30')"
      ]
     },
     "execution_count": 18,
     "metadata": {},
     "output_type": "execute_result"
    }
   ],
   "source": [
    "b"
   ]
  },
  {
   "cell_type": "code",
   "execution_count": 19,
   "metadata": {},
   "outputs": [],
   "source": [
    "uni_b = np.unique(b)"
   ]
  },
  {
   "cell_type": "code",
   "execution_count": 24,
   "metadata": {},
   "outputs": [
    {
     "data": {
      "text/plain": [
       "array(['Machine Learning Engineer'], dtype='<U30')"
      ]
     },
     "execution_count": 24,
     "metadata": {},
     "output_type": "execute_result"
    }
   ],
   "source": [
    "uni_b[a]"
   ]
  },
  {
   "cell_type": "code",
   "execution_count": null,
   "metadata": {},
   "outputs": [],
   "source": []
  }
 ],
 "metadata": {
  "kernelspec": {
   "display_name": "Python 3",
   "language": "python",
   "name": "python3"
  },
  "language_info": {
   "codemirror_mode": {
    "name": "ipython",
    "version": 3
   },
   "file_extension": ".py",
   "mimetype": "text/x-python",
   "name": "python",
   "nbconvert_exporter": "python",
   "pygments_lexer": "ipython3",
   "version": "3.7.6"
  }
 },
 "nbformat": 4,
 "nbformat_minor": 4
}
