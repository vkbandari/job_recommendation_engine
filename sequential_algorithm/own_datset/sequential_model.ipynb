{
 "cells": [
  {
   "cell_type": "code",
   "execution_count": 1,
   "metadata": {},
   "outputs": [],
   "source": [
    "# firstly install libraries : keras and tensorflow\n",
    "# pip install keras\n",
    "# pip install tensorflow\n",
    "\n",
    "# install PyPDF2 to read pdf files to convert it into text\n",
    "#pip install PyPDF2"
   ]
  },
  {
   "cell_type": "code",
   "execution_count": 2,
   "metadata": {},
   "outputs": [
    {
     "name": "stderr",
     "output_type": "stream",
     "text": [
      "Using TensorFlow backend.\n"
     ]
    }
   ],
   "source": [
    "# importing another python file where model is created\n",
    "\n",
    "# before importing this python file please change the epochs to a number between 15 to 20\n",
    "\n",
    "\n",
    "import seq_model as seq"
   ]
  },
  {
   "cell_type": "code",
   "execution_count": 3,
   "metadata": {},
   "outputs": [
    {
     "name": "stdout",
     "output_type": "stream",
     "text": [
      "Model: \"sequential_1\"\n",
      "_________________________________________________________________\n",
      "Layer (type)                 Output Shape              Param #   \n",
      "=================================================================\n",
      "embedding_1 (Embedding)      (None, 1200, 64)          128000    \n",
      "_________________________________________________________________\n",
      "conv1d_1 (Conv1D)            (None, 1185, 200)         205000    \n",
      "_________________________________________________________________\n",
      "global_max_pooling1d_1 (Glob (None, 200)               0         \n",
      "_________________________________________________________________\n",
      "dense_1 (Dense)              (None, 512)               102912    \n",
      "_________________________________________________________________\n",
      "dropout_1 (Dropout)          (None, 512)               0         \n",
      "_________________________________________________________________\n",
      "activation_1 (Activation)    (None, 512)               0         \n",
      "_________________________________________________________________\n",
      "dense_2 (Dense)              (None, 53)                27189     \n",
      "_________________________________________________________________\n",
      "activation_2 (Activation)    (None, 53)                0         \n",
      "=================================================================\n",
      "Total params: 463,101\n",
      "Trainable params: 463,101\n",
      "Non-trainable params: 0\n",
      "_________________________________________________________________\n"
     ]
    },
    {
     "name": "stderr",
     "output_type": "stream",
     "text": [
      "C:\\Anaconda3\\lib\\site-packages\\tensorflow\\python\\framework\\indexed_slices.py:434: UserWarning: Converting sparse IndexedSlices to a dense Tensor of unknown shape. This may consume a large amount of memory.\n",
      "  \"Converting sparse IndexedSlices to a dense Tensor of unknown shape. \"\n"
     ]
    },
    {
     "name": "stdout",
     "output_type": "stream",
     "text": [
      "Train on 6167 samples, validate on 1542 samples\n",
      "Epoch 1/2\n",
      "6167/6167 [==============================] - 176s 29ms/step - loss: 1.0484 - categorical_accuracy: 0.7540 - val_loss: 0.1325 - val_categorical_accuracy: 0.9805\n",
      "Epoch 2/2\n",
      "6167/6167 [==============================] - 172s 28ms/step - loss: 0.0642 - categorical_accuracy: 0.9904 - val_loss: 0.0218 - val_categorical_accuracy: 0.9961\n"
     ]
    }
   ],
   "source": [
    "# initiating the model which return model's object\n",
    "\n",
    "model_seq = seq.model_init()"
   ]
  },
  {
   "cell_type": "code",
   "execution_count": 4,
   "metadata": {},
   "outputs": [],
   "source": [
    "# importing pdf reader library\n",
    "\n",
    "import PyPDF2 as pdf\n",
    "import numpy as np"
   ]
  },
  {
   "cell_type": "code",
   "execution_count": 5,
   "metadata": {},
   "outputs": [],
   "source": [
    "def pdf_to_txt(file_name):\n",
    "    '''\n",
    "    a function which takes file name as argument and process the files at end it returns the numpy string array\n",
    "    '''\n",
    "    \n",
    "    # opening file in read mode with binary form\n",
    "    FileObj = open(file_name, 'rb')\n",
    "\n",
    "    # creating a pdf reader object to read pdf pages\n",
    "    pdfReader = pdf.PdfFileReader(FileObj)\n",
    "\n",
    "    # finding number of pages to get text from each page\n",
    "    pages = pdfReader.numPages\n",
    "    #print(pages)\n",
    "\n",
    "\n",
    "    # initiating resume_text variable a string which stores the text that returned from pdfobject from each page through iteration\n",
    "    \n",
    "    resume_txt = ''\n",
    "    for i in range(pages):\n",
    "        pageObj = pdfReader.getPage(i)\n",
    "        resume_txt += ' '.join(pageObj.extractText().split())\n",
    "\n",
    "    # converting the string to array form with lower letters\n",
    "    resume = np.array([resume_txt.lower()])\n",
    "\n",
    "    # closing file object\n",
    "    FileObj.close()\n",
    "\n",
    "    #returning the resume - a numpy string array\n",
    "    return resume"
   ]
  },
  {
   "cell_type": "code",
   "execution_count": 6,
   "metadata": {},
   "outputs": [],
   "source": [
    "# res = 'VAMSHIKRISHNA BANDARI krishnavamshi.12321@gmail.com +91 8919765647 Hyderabad, Bangalore EDUCATION Bachelor of Technology (B.Tech), Computer Science Kalasalingam Academy Of Research And Education 2016 - 2020 CGPA: 9.10/10 Diploma, Yoga For Youth Empowerment Vethathiri MaharishI Institute Aliyar, Tamil Nadu 2016 - 2017 Percentage: 82.00% Senior Secondary (XII), Science NRI Junior Kalasala, Nijampet, Telangana (BOARD OF INTERMEDIATE EDUCATION, TELANGANA board) Year of completion: 2016 Percentage: 94.00% Secondary (X) ZPPSS Challagariga (BOARD OF SECONDARY SCHOOL EDUCATION TELANGANA board) Year of completion: 2016 CGPA: 9.30/10 INTERNSHIPS Machine Learning Intern Mindadda, Bangalore May 2020 - Present Working on a real-time project to analyze jobs in India. Here my work includes from scratch to end which involves collecting, cleaning, preparing, model deployment... And also working on chatbot creation, tasks on social media sentiment analysis. Data Science Intern Avancer Software Solutions Pvt. Ltd., Virtual Jan 2020 - May 2020 This is part time one and work is on collecting the data and performing the EDA on the data set includes cleaning, merging and visualize the data. The daily tasks is to apply data analytics techniques Full Stack Development Bigwig Technologies, Hyderabad Dec 2018 - Dec 2018 - Learnt so many technologies and frameworks. - Done online shopping site named as QuiCart. - QuiCart is a clone website for Flipkart. Front End Web Developer Arete IT Services Pvt Ltd, Warangal May 2018 - Jun 2018 Trained as a web developer. • Worked on a website where we developed front end. • Took some special training on Search Engine Optimization. POSITIONS OF RESPONSIBILITY Campus ambassador for SmartBridge Educational Services Pvt. Ltd Chairperson @ KAREACM STUDENT CHAPTER-170084 in the academic year 2018-19 Web Developer(2K17 - 2K18) @ Student Chapter KARE ACM. At that period I involved in developing two websites. 1. KARE ACM - the main website to represent the student chapter. 2. An Event site (Disfrutar 2k18) to promote event and event activities. Event Coordinator @ Fine Arts Where I worked to promote the culture of India and our Native Style of living by conducting many events to the Engineers which are studying in my University TRAININGS Introduction To Machine Learning NPTEL - Youtube, Online Mar 2020 - Present Course which deals with the machine learning paradigms and hands on practices on Scikits-Learn library in python. How To Build Chatbots Cognitive AI Class, Online Mar 2020 - Apr 2020 I got certied and secured level - 1 badge in IBMSKILLNETWORK. In this course they trained me on IBM Watson to develop chatbot. I done a chatbot project that address my college and solves queries regarding to college at the time of admission. Complete Excel Course udemy, Online Jan 2020 - Feb 2020 This course around 20 hours which course all concepts from basic formatting to advanced functions, charts, pivot tables. Python For Data Science edX, Online Nov 2019 - Jan 2020 This is an audit course from UCSanDiego. Here I am learning python and packages which are required to perform data science operations. Packages include like Numpy, Pandas, matplotlib, Scikit-learn, NLTK... Data Science Fundamentals (learning Path) Cognitive AI Class, Online Oct 2019 - Nov 2019 Completed data science fundamentals a learning path and earned a level 2 badge in cognitive AI which is an initiative by IBMSKILLNETWORK Learn To Code With Python 3 udemy, Online May 2019 - Aug 2019 Introduction to an advanced level with 17.5 hours covering all oops concepts. Certied from Udemy. Responsive Web Development udemy, Online Feb 2019 - Jun 2019 underwent many topics in HTML5, CSS3, Bootstrap, jQuery and a little bit of JavaScript. Learn Professional Web Design In Photoshop udemy, Online Nov 2018 - Apr 2019 A four-hour course which includes projects on website design CSS For Smart People udemy, Online Nov 2018 - Dec 2018 PROJECTS KARE CHATBOT Mar 2020 - Apr 2020 Here I used IBM Watson that which replies to student queries. The main focus is to solve queries related to admissions. This project is an outcome of my IBMSKILLNETWORK course. Exploratory Data Analysis on sales Jan 2020 - Jan 2020 This is a demo project to understand the data analysis using pandas, matplotlib, Numpy. Here the questions are framed and solved to demonstrate the usage of pandas. Twitter Data Analysis Jan 2020 - Jan 2020 https://github.com/vkbandari/Twitter-Data-Analysis Explored twitter API and extracts the data by using WOEID for particular locations and analyzed the tweets how much it took part in a country and also extracts the data using hashtags and nds its relevant hashtags .. Handwritten Digit Recognizer using Machine Learning Sep 2019 - Nov 2019 https://github.com/vkbandari/Digit-Recogniser-using-scikit-learn Developed a decision tree classication model to predict the data which is collected from Kaggle. The predicted output is veried by printing the same record using matplotlib visually. Play Math Mar 2019 - Mar 2019 https://github.com/vkbandari/-PLAY-MATH A web application - game that a student can practice, improve his mathematics problem solving. He can opt for any level and he can play based on given time and mark criteria. This project is developed by using HTML5, CSS3, JavaScript, Bootstrap. Web app using Wordpress – Disfrutar 2k18 Jun 2018 - Aug 2018 https://disfrutar2k18.kare.hosting.acm.org/ - Creates and Maintains a website (Disfrutar 2k18) an event which is happened under KARE ACM. - Uses databases in site to store the registration data. Smart home automation using intelligence and IBM CLOUD Mar 2018 - Mar 2018 - Performed in Emerge Hackathon in JNTU Anantapur, Andhra Pradesh. - Meant to people like old agers and patients. - Promoting automation from their point of view. SKILLS HTML Advanced C Programming Advanced CSS Advanced JavaScript Intermediate Machine Learning Intermediate Adobe Photoshop Intermediate Python Advanced WordPress Intermediate MS-Office Intermediate Data Structures Intermediate Database Management System (DBMS) Intermediate MySQL Intermediate Data Analytics Intermediate Data Science Intermediate WORK SAMPLES GitHub prole https://github.com/vkbandari ADDITIONAL DETAILS - Best innovative project idea appreciation at Emerge Hackathon. - Pre-finalist to IEEE global worldwide projects, Colombo, Srilanka and IIT Varanasi. - Selected for State level Inspire Exhibition and Projects Competition - 2014. - Got awarded as best quality assurance project year award in 2018 on Student Fee Management. - Got funded in under graduation for being excellence in studies. - Stood rst in training sessions of java by CampusConnection.'\n",
    "#res = res.lower()\n",
    "#print(res)"
   ]
  },
  {
   "cell_type": "code",
   "execution_count": 7,
   "metadata": {},
   "outputs": [],
   "source": [
    "# getting file name from UI with path\n",
    "file_name = '../resume_1.pdf'\n",
    "\n",
    "# calling function to get text from file\n",
    "res1 = pdf_to_txt(file_name)"
   ]
  },
  {
   "cell_type": "code",
   "execution_count": 8,
   "metadata": {},
   "outputs": [
    {
     "name": "stdout",
     "output_type": "stream",
     "text": [
      "['choodamani deshikam ui developer 9964743014 choodudeshikam89@gmail.com page 1 of 4 choodamani deshikam 9964743014 profile results - oriented and experienced web ui developer with strong record of corporate client satisfaction. excellent ability to adjust work pace to meet evolving client requirements . objective a highly skilled it professional with strong experience and knowledge creating high - quality, scalable and high - performance web applications seeking for the role of ui developer in a thriving, exciting and growing company with 4 .6 years of experience. professional summary working as ui develop er in aggregate shopping corp, usa since aug, 2017 till date. ui developer with 4.6 years of professional experience in front end development technologies . strong develop ing experience with jsp, html, css, less, java s cript. experienced in javascript framew orks like jquery . expertise in using json and ajax to link with the back - end applications. experience in developing dynamic webpages using jsp. strong experience with cross browser compatibility issues and optimization for web and mobile with code reusability . expertise in debugging and troubleshooting existing code using firebug and development tools . stronger experience in building responsive we b applications with bootstrap, media queries in order to build rich user friendly responsive web - mobile ap p lication . excellent communication, problem - solving, and planning skills, with ability to work independently or in a team environment. technical skill s ui web technologies html5, css3, jquery, javascript, ajax, jsp, responsive web design, bootstrap, angular js css pre processors less, sass ide eclipse, notepad++, brackets, sublime text 3 , visual studio design tool adobe photoshop cs 7 operating system windows xp, windows 7, windows 10, mac os web/app servers apache tomcat 7.0 application microsoft word, microsoft excel, microsoft powerpoint , microsoft access database/query languages my sql software methodologies agile, waterfall version control tortoise svn, github incident management tools bugzilla, jira cms wordpresschoodamani deshikam ui developer 9964743014 choodudeshikam89@gmail.com page 2 of 4 choodamani deshikam 9964743014 education master of computer applications , maharaja institute of technology, mysore 2010 2013 professional experience senior ui developer skoruz technologies pvt ltd., 06/2018 - present client location: ntt data project: wps agent portal description: wps agent portal is a web based application designed to pro vide insurance agents to avail insurance for any individual or family. the application comprises of creating an agent by validating npn and name, auditing the dashboard with categories, creating customers and showing the quotes to the customer, sending email to customer with the quote information, showing the plans based on customer details, selecting plan/s to proceed further with buying insurance. responsibilities: responsible for creating the lo ok and feel of the website with the responsive design upon client requirement analysis. worked on building front end responsive pages using asp, html , css , javascript , bootstrap3 , jquery , ajax . developed and implemented user interfaces as per w3c , 508 compliance compatibility standards . developed client - side validation code using javascript and jquery . creating cross - browser compatible and standards - compliant css - based page layouts. involved in fixing front - end issues with the layouts. developed applica tion that execute on various browsers covering windows and mac such as internet explorer , ie edge, mozilla firefox, google chrome, safari and almost all android and ios devices. ui developer aggregate shopping corp, usa 8 /20 17 5/2018 project : gotchya ( https://www.gotchya.co / ) description: gotchya is a new way to shop the web where you can shop for everything one time, in one place and checkout across multiple stores. we do the work for you by identifying the lowest prices and valuable coupons. we then go the extra mile by combining your shipments to save you even more. responsibilities: responsible for cr eating the look and feel of the public web site with the responsive design upo n client requirement analysis.choodamani deshikam ui developer 9964743014 choodudeshikam89@gmail.com page 3 of 4 choodamani deshikam 9964743014 worked on building front end responsive pages using jsp , html , css , javascript , bootstrap 3 , jquery , ajax . developed and implemented user interfaces as per w3c standards . developed client - side validation code using javascript and jquery . creating cross - browser compatible and standards - compliant css - based page layouts . involved in fixing front - end issues with the layouts. extensively used and modified jquery to perform ajax calls for creating interactive web pages on json response worked with backend team to convert html non - functional pages into dynamic jsp pages. worked on integration of jsp pages . developed application that execute on various browsers covering windows and mac such as internet explorer 9 and above, ie edge, mozilla firefox, google chrome, safari and almost all android and ios devices . worked on continuous changing requirements meeting the client needs wit h deadlines. worked on fixing device/screen specific ui look and feel using browser stack tool in order to make application responsive and user friendly. unit testing of application end to end in all browsers and devices in scope. technology : html, css, javascript, jquery, ajax, json, jsp, eclipse and svn . interactive developer echidna software p vt l td , bangalore 7 /20 14 - 8 /20 17 echidna is a new kind of ecommerce agency. complete user interface solutions. specialized in web, tablet, mobile and responsive ux services. in this fast - changing technological world using the latest and diverse technologies, it develops enterprise and cus tomer solutions for web, tablet and mobile environments . project: gotchya (https://www.gotchya.co/) description: gotchya is a new way to shop the web where you can shop for everything one time, in one place and checkout across multiple stores. we do the work for you by identifying the lowest prices and valuable coupons. we then go the extra mile by combining your shipments to save you even more. responsibilities: collecting requirements from the client on a frequent basis. worked with team to understand their business models and goals and help define strategy, content and features. analysing the requirements and planning the timelines to reach the required needs on time. worked with designer who designed user interfaces and prototypes for web - based internal system. interpreted and executed designs correctly as requested by clients. developed front end pages using html , css , javascript , jquery , ajax as per w3c standards . developed app lication from scratch for responsive design with bootstrap3 . involved in converting non - functional html pages to dynamic jsp pages and integration of jsp pages. communicating with client for application development and progress and gathering new requiremen ts.choodamani deshikam ui developer 9964743014 choodudeshikam89@gmail.com page 4 of 4 choodamani deshikam 9964743014 providing support to the team on technical issues and resolving them. reviewing code standards with the team and modifying the code in order to reach the performance constraint during code optimization activity of page speed results for web and mobile pages . technology : html, css, javascript, jquery, ajax, json, jsp, eclipse and svn. project: kohls inc., ( http://www.kohls.com ) responsibilities: analysing the requirements. developed front end pages using html5, css3 and ensured pixel perfect as per creatives (cx) / prototypes . developed responsive web pages using bootstrap framework. following code standards to maintain efficiency and performance. debugging and avoiding exceptions in the pages. worked on bug fixes and defects tracking. developed client - side validation code using javascript and jquery . technology : html5, css3, javascript, jquery, jquery template , bootstrap, jsp , github . project: bachmans ( https://www.bachmans.com/ ) responsibilities: analysing the requirements. handl ing modules in admin panel of the project. completely designed html pages u sing templating concept using html, less and ensured pixel perfect as per creatives/prototypes . developed responsive design using bootstrap framework. integrat ing html templates with angular js using 451 restful api in the development of admin section of the project. worked with business analyst and architect in collecting the requirements from client. following code standards to maintain efficiency and performance. technology : html, less , bootstrap, jquery, angular js, jsp , github. personal details date of birth: 02 - nov - 1989 location: bangalore marital status: single nationality: indian']\n"
     ]
    }
   ],
   "source": [
    "# printing the resume in text format that returned from object\n",
    "print(res1)"
   ]
  },
  {
   "cell_type": "code",
   "execution_count": 9,
   "metadata": {
    "scrolled": true
   },
   "outputs": [
    {
     "name": "stdout",
     "output_type": "stream",
     "text": [
      "\n",
      "\n",
      "The resume of candidate's predicted category is:  Business Development (Sales)\n"
     ]
    }
   ],
   "source": [
    "# calling method from model developed python file which returned two variables as tuple format\n",
    "\n",
    "(class_predicted, list_of_classes) = seq.model_pred(model_seq, res1)\n",
    "\n",
    "# first value is the encoded value that model is predicted that his/her resume belongs to..\n",
    "#print(class_predicted)\n",
    "\n",
    "# printing list of labels in same format that labels are encoded\n",
    "#print(list_of_classes)\n",
    "#print('\\nlength of list of categeory is: ',len(list_of_classes))\n",
    "\n",
    "# printing the predicted category of his/her profile\n",
    "print(\"\\n\\nThe resume of candidate's predicted category is: \", list_of_classes[class_predicted[0]])"
   ]
  },
  {
   "cell_type": "code",
   "execution_count": 10,
   "metadata": {},
   "outputs": [],
   "source": [
    "# getting file name from UI with path\n",
    "file_name = '../resume_2.pdf'\n",
    "\n",
    "# calling function to get text from file\n",
    "res2 = pdf_to_txt(file_name)"
   ]
  },
  {
   "cell_type": "code",
   "execution_count": 11,
   "metadata": {},
   "outputs": [
    {
     "name": "stdout",
     "output_type": "stream",
     "text": [
      "['charishma .k charishmakolisetty @gmail.com +9 1 7200669686 career objective: explore the depth of technology and like to be a master in it. key skills: html, css, javas cript, jquery . profes sional experience: total experience : 1. 9 years in the area of web development and support operations. company : ntt data global delivery services pvt.ltd. bangalore india. roles and responsibi lities : web application development, maintenance, satisfying cl ients requi rements design tools : html, javascript with css. courses/training : ntt data certified software testing level - 1 professional. technical books speaking java script by axel rausch mayer . learnings : bootstrap . educational qualification: secured bachelor of engineering in informat ion and tele communication from srm u niversity , in the year 2 01 7 with 8 6%. pass ed 12 th from sri chaitanya junior kalasala gu dawal l i in the year 20 13 with 9 2.1 % . passed sslc from gowtha m c oncept school gudiwada in the year 2011 with 89.6% . technical summary: programming languages: name version ide used self - rating( out of 10 1 - poo r, 10 - excellent ) javascript ecmascript 5 visual studio 2012 notepad++ 8 html 5 visual studio 2012 notepad++ 8 css 3 visual studio 2012 notepad++ 8extracurricular activiti es: worked as a volunteer in hr & finance domain techno ma na gement fest in the year 2013. in tube li - volunteer (the art of living) - ngo volunteer in the green nest ngo strengths: positive attitude self - confident a nd self - motivated ambitious, goal oriented patience project details: project 1: website n ame : vital chakra operati ng system : windows 8.1/10 time duration : 3 months group size : 4 member s description : vital chakra believes that the future of healt hc are, sick care and wellness lies in the technologies that are either worn or embedded i n t he body. founded by a team of experienced entrepreneurs, healthcare and technology professionals, vital chakra is focused on building a portfolio of d i s r u p t i v e tech no logies that enables effective monitoring, earlier diagnosis, less invasive treatment optio ns and reduction in rehabilitation time. project 2 : website name : set.edu.in operati ng system : windows 8.1/10 time duration : 4 months group size : 4 member s de scription :t his website gives the information about s eshadrip uram educational trust h ome academics campus life f acul ty and staff alumni c areers c ontact details person al details: : k.krishnaiah gender : female date of birth : 21 st july 1996n ationality : indian hobbies : readin g books, p ainting , drawing ,yoga . favorite books : amar chit ra katha comics . languages known : english , telugu , hindi , tamil . influenced by : robin sharma other interests : writing, singing and entrepreneurs hip. declaration: i hereby declare that the ab ove information is true to the best of my knowled g e and belief. ( charishma.k )']\n"
     ]
    }
   ],
   "source": [
    "# printing the resume in text format that returned from object\n",
    "print(res2)"
   ]
  },
  {
   "cell_type": "code",
   "execution_count": 12,
   "metadata": {},
   "outputs": [
    {
     "name": "stdout",
     "output_type": "stream",
     "text": [
      "[7]\n",
      "\n",
      "\n",
      "The resume of candidate's predicted category is:  Circuit & PCB Designing\n"
     ]
    }
   ],
   "source": [
    "# calling method from model developed python file which returned two variables as tuple format\n",
    "\n",
    "(class_predicted, list_of_classes) = seq.model_pred(model_seq, res2)\n",
    "\n",
    "\n",
    "# first value is the encoded value that model is predicted that his/her resume belongs to..\n",
    "print(class_predicted)\n",
    "\n",
    "# printing list of labels in same format that labels are encoded\n",
    "#print(list_of_classes)\n",
    "#print('\\nlength of list of categeory is: ',len(list_of_classes))\n",
    "\n",
    "# printing the predicted category of his/her profile\n",
    "\n",
    "print(\"\\n\\nThe resume of candidate's predicted category is: \", list_of_classes[class_predicted[0]])"
   ]
  },
  {
   "cell_type": "code",
   "execution_count": 13,
   "metadata": {},
   "outputs": [
    {
     "name": "stdout",
     "output_type": "stream",
     "text": [
      "['.NET Development', 'Administration', 'Agriculture & Food Engineering', 'Automotive Clay Modelling', 'Business Development (Sales)', 'COVID-19 Response Campaign And Fundraising', 'Category Management', 'Circuit & PCB Designing', 'Computer Vision', 'Computer Vision & Machine Learning', 'Content Development', 'Content Development (English)', 'Content Writing', 'Culinary Operations (Chef)', 'Data Entry (Typing)', 'Development Support', 'Digital Marketing', 'Drone Building', 'E-Learning Development', 'Electronics Engineering (Arduino & 3D Printer)', 'Embedded DSP Development', 'Enterprise Accounts', 'Finance', 'Flutter Development', 'Graphic Design', 'Hindi Video Making/Editing', 'Human Resources (HR)', 'Information Technology', 'Interior Design', 'Law/ Legal', 'Marketing', 'Media & Communication', 'Mobile App Development', 'Networking & System Administration', 'Online Crowd Funding', 'Operations', 'PHP Development', 'PHP Development (CMS)', 'Product Analysis', 'Product Management', 'Research', 'Resource Generation', 'Search Engine Optimization (SEO)', 'Seed Production', 'Social Media Marketing', 'Software Testing', 'Software Testing/Quality Assurance', 'Stock Market Research', 'UI/UX Design', 'Video Editing', 'Video Making/Editing', 'Volunteering', 'Web Development']\n"
     ]
    }
   ],
   "source": [
    "print(list_of_classes)"
   ]
  },
  {
   "cell_type": "code",
   "execution_count": null,
   "metadata": {},
   "outputs": [],
   "source": []
  }
 ],
 "metadata": {
  "kernelspec": {
   "display_name": "Python 3",
   "language": "python",
   "name": "python3"
  },
  "language_info": {
   "codemirror_mode": {
    "name": "ipython",
    "version": 3
   },
   "file_extension": ".py",
   "mimetype": "text/x-python",
   "name": "python",
   "nbconvert_exporter": "python",
   "pygments_lexer": "ipython3",
   "version": "3.7.6"
  }
 },
 "nbformat": 4,
 "nbformat_minor": 4
}
